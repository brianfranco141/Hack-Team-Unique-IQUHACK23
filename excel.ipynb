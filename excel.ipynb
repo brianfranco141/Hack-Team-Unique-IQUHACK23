{
 "cells": [
  {
   "cell_type": "code",
   "execution_count": null,
   "id": "d8341559-4efe-4379-9da1-a1f2b6625682",
   "metadata": {},
   "outputs": [],
   "source": [
    "#Importing necessary packages\n",
    "import pandas as pd \n",
    "from qiskit import QuantumCircuit,execute,Aer\n",
    "import numpy as np \n",
    "\n",
    "#Defining a quantum circuit \n",
    "qc = QuantumCircuit(2,2)\n",
    "\n",
    "#Applying Grover's algorithm\n",
    "qc.h(0)\n",
    "qc.h(1)\n",
    "qc.x(1)\n",
    "qc.cz(0,1)\n",
    "qc.x(1)\n",
    "qc.h(0)\n",
    "qc.h(1)\n",
    "qc.measure([0,1],[0,1])\n",
    "\n",
    "#Creating the backend\n",
    "backend = Aer.get_backend('qasm_simulator')\n",
    "\n",
    "#Executing the circuit and getting the output\n",
    "job = execute(qc,backend=backend,shots=1024)\n",
    "result = job.result()\n",
    "output = result.get_counts(qc)\n",
    "\n",
    "#Creating a dictionary out of the output\n",
    "dict_ = {}\n",
    "for key,value in output.items():\n",
    "    key_ = int(key,2)\n",
    "    value_ = float(value/1024)\n",
    "    dict_[key_] = value_\n",
    "\n",
    "#Creating a dataframe from the dictionary    \n",
    "df = pd.DataFrame(list(dict_.items()), columns=['Input','Probability'])\n",
    "\n",
    "#Wrting into the excel file\n",
    "df.to_excel('Output_of_Qiskit.xlsx')"
   ]
  }
 ],
 "metadata": {
  "kernelspec": {
   "display_name": "Python 3 (ipykernel)",
   "language": "python",
   "name": "python3"
  },
  "language_info": {
   "codemirror_mode": {
    "name": "ipython",
    "version": 3
   },
   "file_extension": ".py",
   "mimetype": "text/x-python",
   "name": "python",
   "nbconvert_exporter": "python",
   "pygments_lexer": "ipython3",
   "version": "3.10.6"
  }
 },
 "nbformat": 4,
 "nbformat_minor": 5
}
