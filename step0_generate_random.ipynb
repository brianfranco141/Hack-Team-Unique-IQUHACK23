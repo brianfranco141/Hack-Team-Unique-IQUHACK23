{
 "cells": [
  {
   "cell_type": "code",
   "execution_count": 1,
   "id": "625b0c87-7a9e-489c-b7c2-764c3625a20c",
   "metadata": {},
   "outputs": [
    {
     "name": "stderr",
     "output_type": "stream",
     "text": [
      "<frozen importlib._bootstrap>:219: RuntimeWarning: scipy._lib.messagestream.MessageStream size changed, may indicate binary incompatibility. Expected 56 from C header, got 64 from PyObject\n"
     ]
    }
   ],
   "source": [
    "import numpy as np\n",
    "\n",
    "# Importing standard Qiskit libraries\n",
    "from qiskit import QuantumCircuit, transpile, Aer, IBMQ\n",
    "from qiskit.tools.jupyter import *\n",
    "from qiskit.visualization import *\n",
    "from ibm_quantum_widgets import *\n",
    "from qiskit.providers.aer import QasmSimulator\n",
    "\n",
    "# Loading your IBM Quantum account(s)\n",
    "provider = IBMQ.load_account()"
   ]
  },
  {
   "cell_type": "code",
   "execution_count": 6,
   "id": "f769961f-0121-49d1-a0d5-5ca1cb37ebd6",
   "metadata": {},
   "outputs": [
    {
     "name": "stdout",
     "output_type": "stream",
     "text": [
      "Executing Job...\n",
      "\n",
      "Job Status: job has successfully run\n",
      "RESULT:  {'0000': 4, '0001': 2, '0010': 2, '0011': 3, '0100': 1, '0101': 3, '0110': 1, '0111': 2, '1000': 2, '1001': 3, '1010': 5, '1011': 1, '1100': 4, '1110': 2} \n",
      "\n",
      "Press any key to close\n"
     ]
    },
    {
     "name": "stdin",
     "output_type": "stream",
     "text": [
      " \n"
     ]
    },
    {
     "data": {
      "text/plain": [
       "''"
      ]
     },
     "execution_count": 6,
     "metadata": {},
     "output_type": "execute_result"
    }
   ],
   "source": [
    "from qiskit import QuantumRegister, ClassicalRegister, QuantumCircuit, execute,IBMQ\n",
    "from qiskit.tools.monitor import job_monitor\n",
    "\n",
    "\n",
    "q = QuantumRegister(4,'q')\n",
    "c = ClassicalRegister(4,'c')\n",
    "circuit = QuantumCircuit(q,c)\n",
    "circuit.h(q) # Applies hadamard gate to all qubits\n",
    "circuit.measure(q,c) # Measures all qubits \n",
    "\n",
    "backend = provider.get_backend('ibmq_qasm_simulator')\n",
    "job = execute(circuit, backend, shots=35)\n",
    "                               \n",
    "print('Executing Job...\\n')                 \n",
    "job_monitor(job)\n",
    "counts = job.result().get_counts()\n",
    "list_count = counts.items()\n",
    "data = list(list_count)\n",
    "  \n",
    "# Convert list to an array\n",
    "numpy_count = np.array(data)\n",
    "binary = numpy_count[:,0]\n",
    "\n",
    "\n",
    "print('RESULT: ',counts,'\\n')\n",
    "print('Press any key to close')\n",
    "input()\n"
   ]
  },
  {
   "cell_type": "code",
   "execution_count": 7,
   "id": "aeee7635-53b5-4185-a18a-c221e708ee1f",
   "metadata": {},
   "outputs": [],
   "source": [
    "def binaryToDecimal(n):\n",
    "    return int(n,2)"
   ]
  },
  {
   "cell_type": "code",
   "execution_count": 8,
   "id": "b974a487-aec7-4573-ab25-5a17f1799a35",
   "metadata": {},
   "outputs": [
    {
     "data": {
      "text/plain": [
       "array([[0., 1., 2., 3., 4., 5., 6., 7., 8., 9.]])"
      ]
     },
     "execution_count": 8,
     "metadata": {},
     "output_type": "execute_result"
    }
   ],
   "source": [
    "decimal = np.zeros((1,10))\n",
    "for i in range(10):\n",
    "    decimal[0,i] = binaryToDecimal(binary[i])\n",
    "    \n",
    "decimal"
   ]
  },
  {
   "cell_type": "code",
   "execution_count": 9,
   "id": "d9f50cdd-8230-49e1-9d87-d5458e50fb5a",
   "metadata": {},
   "outputs": [],
   "source": [
    "with open('readme.txt', 'a') as f:\n",
    "    f.write(str(decimal))"
   ]
  },
  {
   "cell_type": "code",
   "execution_count": null,
   "id": "b8d40138-0d13-44b5-85b1-a68a4e90dc21",
   "metadata": {},
   "outputs": [],
   "source": []
  }
 ],
 "metadata": {
  "kernelspec": {
   "display_name": "Python 3 (ipykernel)",
   "language": "python",
   "name": "python3"
  },
  "language_info": {
   "codemirror_mode": {
    "name": "ipython",
    "version": 3
   },
   "file_extension": ".py",
   "mimetype": "text/x-python",
   "name": "python",
   "nbconvert_exporter": "python",
   "pygments_lexer": "ipython3",
   "version": "3.8.13"
  },
  "widgets": {
   "application/vnd.jupyter.widget-state+json": {
    "state": {
     "0d5a5aa768fa42d78a5005ad9c2093f0": {
      "model_module": "@jupyter-widgets/controls",
      "model_module_version": "1.5.0",
      "model_name": "DescriptionStyleModel",
      "state": {
       "description_width": ""
      }
     },
     "0d88a29a69fc40da9dfedefbb2cdbec4": {
      "model_module": "@jupyter-widgets/controls",
      "model_module_version": "1.5.0",
      "model_name": "HBoxModel",
      "state": {
       "children": [
        "IPY_MODEL_c1a5db3d786442ab8bbf90d4cedc7c22",
        "IPY_MODEL_ce587a6d38b94a27a93c2d723fc2177e",
        "IPY_MODEL_210253409f9141a2a7b1dd1403b88899",
        "IPY_MODEL_c0b9f49a5ad24abb8aa4c7178b925656",
        "IPY_MODEL_d04c45711059413ca13567b3f6b2b8c6",
        "IPY_MODEL_7a1f6e1cb3d84879b2ccd8f7b6ac7087"
       ],
       "layout": "IPY_MODEL_4c02f18891dd479fb68c4503b0e8b3d5"
      }
     },
     "0f7124e00f4848ba93d332721ffc6732": {
      "model_module": "@jupyter-widgets/controls",
      "model_module_version": "1.5.0",
      "model_name": "GridBoxModel",
      "state": {
       "children": [
        "IPY_MODEL_b0020103af8e4ffd8b3b08608fa5ccab"
       ],
       "layout": "IPY_MODEL_4b27061076bc4cb1a81db94846204a3d"
      }
     },
     "10e2fe5868ea4a398f153b353d35af41": {
      "model_module": "@jupyter-widgets/controls",
      "model_module_version": "1.5.0",
      "model_name": "HTMLModel",
      "state": {
       "layout": "IPY_MODEL_b91e5d2ffaa641afa3588a82a1921498",
       "style": "IPY_MODEL_7f282c3ccd834177a0ead6036d12d4b8",
       "value": "-"
      }
     },
     "17a544f44c7c435aaa0a47a19d4f3085": {
      "model_module": "@jupyter-widgets/base",
      "model_module_version": "1.2.0",
      "model_name": "LayoutModel",
      "state": {
       "margin": "0px 0px 0px 37px",
       "width": "600px"
      }
     },
     "1819e99df79b4047850144e6a3101dd3": {
      "model_module": "@jupyter-widgets/base",
      "model_module_version": "1.2.0",
      "model_name": "LayoutModel",
      "state": {
       "width": "145px"
      }
     },
     "1f1e7858edfc4e17934ae7a4eb162676": {
      "model_module": "@jupyter-widgets/base",
      "model_module_version": "1.2.0",
      "model_name": "LayoutModel",
      "state": {
       "overflow_x": "scroll"
      }
     },
     "210253409f9141a2a7b1dd1403b88899": {
      "model_module": "@jupyter-widgets/controls",
      "model_module_version": "1.5.0",
      "model_name": "HTMLModel",
      "state": {
       "layout": "IPY_MODEL_f7ecf4bd19b24a9b9a60acf1b0eb3b7d",
       "style": "IPY_MODEL_98dcffe4d3b744daa068a3ac79882977",
       "value": "ibmq_qasm_simulator"
      }
     },
     "2594384af72d4828abb27ff3126c24e6": {
      "model_module": "@jupyter-widgets/controls",
      "model_module_version": "1.5.0",
      "model_name": "HTMLModel",
      "state": {
       "layout": "IPY_MODEL_7652f9ceba844ab49fc6de2b8b1efe87",
       "style": "IPY_MODEL_c07615f52f7f467bba8d464a450dd053",
       "value": "<h5>Job ID</h5>"
      }
     },
     "2c96892e2d594d499ae46d99027bf8f1": {
      "model_module": "@jupyter-widgets/base",
      "model_module_version": "1.2.0",
      "model_name": "LayoutModel",
      "state": {}
     },
     "2d4767645269455f960a47282bdd4da5": {
      "model_module": "@jupyter-widgets/base",
      "model_module_version": "1.2.0",
      "model_name": "LayoutModel",
      "state": {
       "width": "95px"
      }
     },
     "2e48682807fc47c6bb7b1b66f7630d6e": {
      "model_module": "@jupyter-widgets/controls",
      "model_module_version": "1.5.0",
      "model_name": "HBoxModel",
      "state": {
       "children": [
        "IPY_MODEL_d7fbdec9fd144239a61dd83132e7f25f",
        "IPY_MODEL_c186b5898a4841e08030a3bdd028d06a",
        "IPY_MODEL_9311fe8fe33543cca88060cdff47b72b",
        "IPY_MODEL_d15ba3717b2f402db821fc7985078a20",
        "IPY_MODEL_10e2fe5868ea4a398f153b353d35af41",
        "IPY_MODEL_cd6920a6407f47108447a0311cb5f58f"
       ],
       "layout": "IPY_MODEL_58517a437c3141cc8d535cda11dd5c10"
      }
     },
     "2f1b1959ca8f4f87be95e68554b4c0fc": {
      "model_module": "@jupyter-widgets/controls",
      "model_module_version": "1.5.0",
      "model_name": "HTMLModel",
      "state": {
       "layout": "IPY_MODEL_449ff17838cc48a3a826aa600e45f44b",
       "style": "IPY_MODEL_b4bf43022ae2470e9b1a73a5ae4bb732",
       "value": "<h5>Queue</h5>"
      }
     },
     "3b34e882df7f45d99deecc5795dbdf5d": {
      "model_module": "@jupyter-widgets/controls",
      "model_module_version": "1.5.0",
      "model_name": "DescriptionStyleModel",
      "state": {
       "description_width": ""
      }
     },
     "449ff17838cc48a3a826aa600e45f44b": {
      "model_module": "@jupyter-widgets/base",
      "model_module_version": "1.2.0",
      "model_name": "LayoutModel",
      "state": {
       "width": "70px"
      }
     },
     "480b32f5cc84459b8d3815327b7bb21e": {
      "model_module": "@jupyter-widgets/base",
      "model_module_version": "1.2.0",
      "model_name": "LayoutModel",
      "state": {
       "margin": "0px 0px 10px 0px"
      }
     },
     "4a5e06fbd3174adeab20978cba939f9b": {
      "model_module": "@jupyter-widgets/base",
      "model_module_version": "1.2.0",
      "model_name": "LayoutModel",
      "state": {
       "width": "95px"
      }
     },
     "4aef55b76715401da7e62df442daae65": {
      "model_module": "@jupyter-widgets/base",
      "model_module_version": "1.2.0",
      "model_name": "LayoutModel",
      "state": {
       "margin": "0px 5px 0px 0px",
       "width": "32px"
      }
     },
     "4b27061076bc4cb1a81db94846204a3d": {
      "model_module": "@jupyter-widgets/base",
      "model_module_version": "1.2.0",
      "model_name": "LayoutModel",
      "state": {
       "grid_template_areas": "\n                                       \". . . . right \"\n                                        ",
       "grid_template_columns": "20% 20% 20% 20% 20%",
       "width": "100%"
      }
     },
     "4c02f18891dd479fb68c4503b0e8b3d5": {
      "model_module": "@jupyter-widgets/base",
      "model_module_version": "1.2.0",
      "model_name": "LayoutModel",
      "state": {
       "max_width": "700px",
       "min_width": "700px"
      }
     },
     "4ecb63c7be824506998ccf6146429767": {
      "model_module": "@jupyter-widgets/base",
      "model_module_version": "1.2.0",
      "model_name": "LayoutModel",
      "state": {
       "overflow_x": "scroll"
      }
     },
     "51d284b15b244cf8924b2cb800c6ea21": {
      "model_module": "@jupyter-widgets/controls",
      "model_module_version": "1.5.0",
      "model_name": "ButtonStyleModel",
      "state": {
       "button_color": "white"
      }
     },
     "58517a437c3141cc8d535cda11dd5c10": {
      "model_module": "@jupyter-widgets/base",
      "model_module_version": "1.2.0",
      "model_name": "LayoutModel",
      "state": {
       "max_width": "700px",
       "min_width": "700px"
      }
     },
     "59a2c31a73394d70b1e832742626b41f": {
      "model_module": "@jupyter-widgets/controls",
      "model_module_version": "1.5.0",
      "model_name": "ButtonStyleModel",
      "state": {
       "button_color": "white"
      }
     },
     "5f5c4c86ec4a46af8dfd1c9a95548389": {
      "model_module": "@jupyter-widgets/base",
      "model_module_version": "1.2.0",
      "model_name": "LayoutModel",
      "state": {
       "width": "145px"
      }
     },
     "5f76795dff0a4444b3679e759a79aba1": {
      "model_module": "@jupyter-widgets/controls",
      "model_module_version": "1.5.0",
      "model_name": "HTMLModel",
      "state": {
       "layout": "IPY_MODEL_2c96892e2d594d499ae46d99027bf8f1",
       "style": "IPY_MODEL_a96b5eb62b0f48bcaa493c2801f627d4",
       "value": "<h5>Message</h5>"
      }
     },
     "6dfc1f5b0c904b5bb1faecad4b092d3f": {
      "model_module": "@jupyter-widgets/controls",
      "model_module_version": "1.5.0",
      "model_name": "DescriptionStyleModel",
      "state": {
       "description_width": ""
      }
     },
     "742f7a0597c5410d824ea008fb2f411e": {
      "model_module": "@jupyter-widgets/controls",
      "model_module_version": "1.5.0",
      "model_name": "DescriptionStyleModel",
      "state": {
       "description_width": ""
      }
     },
     "7652f9ceba844ab49fc6de2b8b1efe87": {
      "model_module": "@jupyter-widgets/base",
      "model_module_version": "1.2.0",
      "model_name": "LayoutModel",
      "state": {
       "width": "190px"
      }
     },
     "7a1f6e1cb3d84879b2ccd8f7b6ac7087": {
      "model_module": "@jupyter-widgets/controls",
      "model_module_version": "1.5.0",
      "model_name": "HTMLModel",
      "state": {
       "layout": "IPY_MODEL_1f1e7858edfc4e17934ae7a4eb162676",
       "style": "IPY_MODEL_afd07e46c7e0481b9ca4ee4fecfe3fbe",
       "value": "job has successfully run"
      }
     },
     "7f282c3ccd834177a0ead6036d12d4b8": {
      "model_module": "@jupyter-widgets/controls",
      "model_module_version": "1.5.0",
      "model_name": "DescriptionStyleModel",
      "state": {
       "description_width": ""
      }
     },
     "89179236bd3d49b08c03798570c64972": {
      "model_module": "@jupyter-widgets/controls",
      "model_module_version": "1.5.0",
      "model_name": "DescriptionStyleModel",
      "state": {
       "description_width": ""
      }
     },
     "9311fe8fe33543cca88060cdff47b72b": {
      "model_module": "@jupyter-widgets/controls",
      "model_module_version": "1.5.0",
      "model_name": "HTMLModel",
      "state": {
       "layout": "IPY_MODEL_1819e99df79b4047850144e6a3101dd3",
       "style": "IPY_MODEL_0d5a5aa768fa42d78a5005ad9c2093f0",
       "value": "ibmq_qasm_simulator"
      }
     },
     "98dcffe4d3b744daa068a3ac79882977": {
      "model_module": "@jupyter-widgets/controls",
      "model_module_version": "1.5.0",
      "model_name": "DescriptionStyleModel",
      "state": {
       "description_width": ""
      }
     },
     "9aa5224387ea44d7bc0301000af8f187": {
      "model_module": "@jupyter-widgets/base",
      "model_module_version": "1.2.0",
      "model_name": "LayoutModel",
      "state": {
       "width": "190px"
      }
     },
     "9df7988d688143cdb6e368d083357d61": {
      "model_module": "@jupyter-widgets/controls",
      "model_module_version": "1.5.0",
      "model_name": "DescriptionStyleModel",
      "state": {
       "description_width": ""
      }
     },
     "a96b5eb62b0f48bcaa493c2801f627d4": {
      "model_module": "@jupyter-widgets/controls",
      "model_module_version": "1.5.0",
      "model_name": "DescriptionStyleModel",
      "state": {
       "description_width": ""
      }
     },
     "a9c66a0bae2f45a3947d4bae3a129a8c": {
      "model_module": "@jupyter-widgets/base",
      "model_module_version": "1.2.0",
      "model_name": "LayoutModel",
      "state": {
       "width": "70px"
      }
     },
     "afd07e46c7e0481b9ca4ee4fecfe3fbe": {
      "model_module": "@jupyter-widgets/controls",
      "model_module_version": "1.5.0",
      "model_name": "DescriptionStyleModel",
      "state": {
       "description_width": ""
      }
     },
     "b0020103af8e4ffd8b3b08608fa5ccab": {
      "model_module": "@jupyter-widgets/controls",
      "model_module_version": "1.5.0",
      "model_name": "ButtonModel",
      "state": {
       "button_style": "primary",
       "description": "Clear",
       "layout": "IPY_MODEL_e27993387153417ea53e82098614e0f2",
       "style": "IPY_MODEL_dae854bfe4e24e809dd48753a56345d9"
      }
     },
     "b4bf43022ae2470e9b1a73a5ae4bb732": {
      "model_module": "@jupyter-widgets/controls",
      "model_module_version": "1.5.0",
      "model_name": "DescriptionStyleModel",
      "state": {
       "description_width": ""
      }
     },
     "b4ef4f2aa992446a870a1f0f48fac02c": {
      "model_module": "@jupyter-widgets/controls",
      "model_module_version": "1.5.0",
      "model_name": "HBoxModel",
      "state": {
       "children": [
        "IPY_MODEL_2594384af72d4828abb27ff3126c24e6",
        "IPY_MODEL_fa23adced5ed4848b943221af1901e0f",
        "IPY_MODEL_e92a799302d94fc292b5dc0c0594d775",
        "IPY_MODEL_2f1b1959ca8f4f87be95e68554b4c0fc",
        "IPY_MODEL_5f76795dff0a4444b3679e759a79aba1"
       ],
       "layout": "IPY_MODEL_17a544f44c7c435aaa0a47a19d4f3085"
      }
     },
     "b91e5d2ffaa641afa3588a82a1921498": {
      "model_module": "@jupyter-widgets/base",
      "model_module_version": "1.2.0",
      "model_name": "LayoutModel",
      "state": {
       "width": "70px"
      }
     },
     "c07615f52f7f467bba8d464a450dd053": {
      "model_module": "@jupyter-widgets/controls",
      "model_module_version": "1.5.0",
      "model_name": "DescriptionStyleModel",
      "state": {
       "description_width": ""
      }
     },
     "c0b9f49a5ad24abb8aa4c7178b925656": {
      "model_module": "@jupyter-widgets/controls",
      "model_module_version": "1.5.0",
      "model_name": "HTMLModel",
      "state": {
       "layout": "IPY_MODEL_e007cb7f38d14f62919132dfca6824fc",
       "style": "IPY_MODEL_6dfc1f5b0c904b5bb1faecad4b092d3f",
       "value": "<font style='color:#34BC6E'>DONE</font>"
      }
     },
     "c186b5898a4841e08030a3bdd028d06a": {
      "model_module": "@jupyter-widgets/controls",
      "model_module_version": "1.5.0",
      "model_name": "HTMLModel",
      "state": {
       "layout": "IPY_MODEL_f8e9bb41a4d245b989847eb45fc3acf2",
       "style": "IPY_MODEL_89179236bd3d49b08c03798570c64972",
       "value": "63d6250eed7bc63fde8970a2"
      }
     },
     "c1a5db3d786442ab8bbf90d4cedc7c22": {
      "model_module": "@jupyter-widgets/controls",
      "model_module_version": "1.5.0",
      "model_name": "ButtonModel",
      "state": {
       "icon": "close",
       "layout": "IPY_MODEL_f14ad8b8d2ee41b3b728cf3bda6be68f",
       "style": "IPY_MODEL_59a2c31a73394d70b1e832742626b41f"
      }
     },
     "c8179e6ab7304c929511f1666b1b1789": {
      "model_module": "@jupyter-widgets/controls",
      "model_module_version": "1.5.0",
      "model_name": "DescriptionStyleModel",
      "state": {
       "description_width": ""
      }
     },
     "cbbfae2ce39749909a097c8c3d57ba1d": {
      "model_module": "@jupyter-widgets/controls",
      "model_module_version": "1.5.0",
      "model_name": "DescriptionStyleModel",
      "state": {
       "description_width": ""
      }
     },
     "cd6920a6407f47108447a0311cb5f58f": {
      "model_module": "@jupyter-widgets/controls",
      "model_module_version": "1.5.0",
      "model_name": "HTMLModel",
      "state": {
       "layout": "IPY_MODEL_4ecb63c7be824506998ccf6146429767",
       "style": "IPY_MODEL_9df7988d688143cdb6e368d083357d61",
       "value": "job has successfully run"
      }
     },
     "ce587a6d38b94a27a93c2d723fc2177e": {
      "model_module": "@jupyter-widgets/controls",
      "model_module_version": "1.5.0",
      "model_name": "HTMLModel",
      "state": {
       "layout": "IPY_MODEL_9aa5224387ea44d7bc0301000af8f187",
       "style": "IPY_MODEL_cbbfae2ce39749909a097c8c3d57ba1d",
       "value": "63d6252833d8507985058989"
      }
     },
     "d04c45711059413ca13567b3f6b2b8c6": {
      "model_module": "@jupyter-widgets/controls",
      "model_module_version": "1.5.0",
      "model_name": "HTMLModel",
      "state": {
       "layout": "IPY_MODEL_a9c66a0bae2f45a3947d4bae3a129a8c",
       "style": "IPY_MODEL_c8179e6ab7304c929511f1666b1b1789",
       "value": "-"
      }
     },
     "d15ba3717b2f402db821fc7985078a20": {
      "model_module": "@jupyter-widgets/controls",
      "model_module_version": "1.5.0",
      "model_name": "HTMLModel",
      "state": {
       "layout": "IPY_MODEL_2d4767645269455f960a47282bdd4da5",
       "style": "IPY_MODEL_fe40bc0a07584f0990ef4937e6bcf290",
       "value": "<font style='color:#34BC6E'>DONE</font>"
      }
     },
     "d7fbdec9fd144239a61dd83132e7f25f": {
      "model_module": "@jupyter-widgets/controls",
      "model_module_version": "1.5.0",
      "model_name": "ButtonModel",
      "state": {
       "icon": "close",
       "layout": "IPY_MODEL_4aef55b76715401da7e62df442daae65",
       "style": "IPY_MODEL_51d284b15b244cf8924b2cb800c6ea21"
      }
     },
     "dae854bfe4e24e809dd48753a56345d9": {
      "model_module": "@jupyter-widgets/controls",
      "model_module_version": "1.5.0",
      "model_name": "ButtonStyleModel",
      "state": {}
     },
     "e007cb7f38d14f62919132dfca6824fc": {
      "model_module": "@jupyter-widgets/base",
      "model_module_version": "1.2.0",
      "model_name": "LayoutModel",
      "state": {
       "width": "95px"
      }
     },
     "e27993387153417ea53e82098614e0f2": {
      "model_module": "@jupyter-widgets/base",
      "model_module_version": "1.2.0",
      "model_name": "LayoutModel",
      "state": {
       "grid_area": "right",
       "padding": "0px 0px 0px 0px",
       "width": "70px"
      }
     },
     "e4523209b87d4041af6ae7843f472d5c": {
      "model_module": "@jupyter-widgets/controls",
      "model_module_version": "1.5.0",
      "model_name": "DescriptionStyleModel",
      "state": {
       "description_width": ""
      }
     },
     "e92a799302d94fc292b5dc0c0594d775": {
      "model_module": "@jupyter-widgets/controls",
      "model_module_version": "1.5.0",
      "model_name": "HTMLModel",
      "state": {
       "layout": "IPY_MODEL_4a5e06fbd3174adeab20978cba939f9b",
       "style": "IPY_MODEL_742f7a0597c5410d824ea008fb2f411e",
       "value": "<h5>Status</h5>"
      }
     },
     "f14ad8b8d2ee41b3b728cf3bda6be68f": {
      "model_module": "@jupyter-widgets/base",
      "model_module_version": "1.2.0",
      "model_name": "LayoutModel",
      "state": {
       "margin": "0px 5px 0px 0px",
       "width": "32px"
      }
     },
     "f25614bf037b4c2eb3e09a1632fffcdf": {
      "model_module": "@jupyter-widgets/controls",
      "model_module_version": "1.5.0",
      "model_name": "HTMLModel",
      "state": {
       "layout": "IPY_MODEL_480b32f5cc84459b8d3815327b7bb21e",
       "style": "IPY_MODEL_e4523209b87d4041af6ae7843f472d5c",
       "value": "<p style='font-family: IBM Plex Sans, Arial, Helvetica, sans-serif; font-size: 20px; font-weight: medium;'>Circuit Properties</p>"
      }
     },
     "f7ecf4bd19b24a9b9a60acf1b0eb3b7d": {
      "model_module": "@jupyter-widgets/base",
      "model_module_version": "1.2.0",
      "model_name": "LayoutModel",
      "state": {
       "width": "145px"
      }
     },
     "f8e9bb41a4d245b989847eb45fc3acf2": {
      "model_module": "@jupyter-widgets/base",
      "model_module_version": "1.2.0",
      "model_name": "LayoutModel",
      "state": {
       "width": "190px"
      }
     },
     "fa23adced5ed4848b943221af1901e0f": {
      "model_module": "@jupyter-widgets/controls",
      "model_module_version": "1.5.0",
      "model_name": "HTMLModel",
      "state": {
       "layout": "IPY_MODEL_5f5c4c86ec4a46af8dfd1c9a95548389",
       "style": "IPY_MODEL_3b34e882df7f45d99deecc5795dbdf5d",
       "value": "<h5>Backend</h5>"
      }
     },
     "fe40bc0a07584f0990ef4937e6bcf290": {
      "model_module": "@jupyter-widgets/controls",
      "model_module_version": "1.5.0",
      "model_name": "DescriptionStyleModel",
      "state": {
       "description_width": ""
      }
     }
    },
    "version_major": 2,
    "version_minor": 0
   }
  }
 },
 "nbformat": 4,
 "nbformat_minor": 5
}
