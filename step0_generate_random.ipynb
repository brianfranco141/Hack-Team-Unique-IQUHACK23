{
 "cells": [
  {
   "cell_type": "code",
   "execution_count": 1,
   "id": "625b0c87-7a9e-489c-b7c2-764c3625a20c",
   "metadata": {},
   "outputs": [
    {
     "name": "stderr",
     "output_type": "stream",
     "text": [
      "<frozen importlib._bootstrap>:219: RuntimeWarning: scipy._lib.messagestream.MessageStream size changed, may indicate binary incompatibility. Expected 56 from C header, got 64 from PyObject\n"
     ]
    }
   ],
   "source": [
    "import numpy as np\n",
    "\n",
    "# Importing standard Qiskit libraries\n",
    "from qiskit import QuantumCircuit, transpile, Aer, IBMQ\n",
    "from qiskit.tools.jupyter import *\n",
    "from qiskit.visualization import *\n",
    "from ibm_quantum_widgets import *\n",
    "from qiskit.providers.aer import QasmSimulator\n",
    "\n",
    "# Loading your IBM Quantum account(s)\n",
    "provider = IBMQ.load_account()"
   ]
  },
  {
   "cell_type": "code",
   "execution_count": 2,
   "id": "f769961f-0121-49d1-a0d5-5ca1cb37ebd6",
   "metadata": {},
   "outputs": [
    {
     "name": "stdout",
     "output_type": "stream",
     "text": [
      "Executing Job...\n",
      "\n",
      "Job Status: job has successfully run\n",
      "RESULT:  {'00001': 1, '10011': 1, '10100': 1, '10101': 4, '10110': 2, '10111': 1, '11000': 2, '11011': 1, '11100': 3, '11101': 1, '11110': 2, '11111': 1, '00010': 1, '00011': 2, '00101': 1, '00110': 2, '01000': 1, '01010': 1, '01011': 1, '01100': 1, '01101': 4, '01110': 1} \n",
      "\n",
      "Press any key to close\n"
     ]
    },
    {
     "name": "stdin",
     "output_type": "stream",
     "text": [
      " \n"
     ]
    },
    {
     "data": {
      "text/plain": [
       "''"
      ]
     },
     "execution_count": 2,
     "metadata": {},
     "output_type": "execute_result"
    }
   ],
   "source": [
    "from qiskit import QuantumRegister, ClassicalRegister, QuantumCircuit, execute,IBMQ\n",
    "from qiskit.tools.monitor import job_monitor\n",
    "\n",
    "\n",
    "q = QuantumRegister(5,'q')\n",
    "c = ClassicalRegister(5,'c')\n",
    "circuit = QuantumCircuit(q,c)\n",
    "circuit.h(q) # Applies hadamard gate to all qubits\n",
    "circuit.measure(q,c) # Measures all qubits \n",
    "\n",
    "backend = provider.get_backend('ibmq_qasm_simulator')\n",
    "job = execute(circuit, backend, shots=35)\n",
    "                               \n",
    "print('Executing Job...\\n')                 \n",
    "job_monitor(job)\n",
    "counts = job.result().get_counts()\n",
    "list_count = counts.items()\n",
    "data = list(list_count)\n",
    "  \n",
    "# Convert list to an array\n",
    "numpy_count = np.array(data)\n",
    "binary = numpy_count[:,0]\n",
    "\n",
    "\n",
    "print('RESULT: ',counts,'\\n')\n",
    "print('Press any key to close')\n",
    "input()\n"
   ]
  },
  {
   "cell_type": "code",
   "execution_count": 3,
   "id": "aeee7635-53b5-4185-a18a-c221e708ee1f",
   "metadata": {},
   "outputs": [],
   "source": [
    "def binaryToDecimal(n):\n",
    "    return int(n,2)/31"
   ]
  },
  {
   "cell_type": "code",
   "execution_count": 4,
   "id": "b974a487-aec7-4573-ab25-5a17f1799a35",
   "metadata": {},
   "outputs": [
    {
     "data": {
      "text/plain": [
       "array([[0.03225806, 0.61290323, 0.64516129, 0.67741935, 0.70967742,\n",
       "        0.74193548, 0.77419355, 0.87096774, 0.90322581, 0.93548387]])"
      ]
     },
     "execution_count": 4,
     "metadata": {},
     "output_type": "execute_result"
    }
   ],
   "source": [
    "decimal = np.zeros((1,10))\n",
    "for i in range(10):\n",
    "    decimal[0,i] = binaryToDecimal(binary[i])\n",
    "    \n",
    "decimal"
   ]
  },
  {
   "cell_type": "code",
   "execution_count": 5,
   "id": "d9f50cdd-8230-49e1-9d87-d5458e50fb5a",
   "metadata": {},
   "outputs": [],
   "source": [
    "with open('seed.txt', 'a') as f:\n",
    "    f.write(str(decimal))"
   ]
  },
  {
   "cell_type": "code",
   "execution_count": null,
   "id": "b8d40138-0d13-44b5-85b1-a68a4e90dc21",
   "metadata": {},
   "outputs": [],
   "source": []
  }
 ],
 "metadata": {
  "kernelspec": {
   "display_name": "Python 3 (ipykernel)",
   "language": "python",
   "name": "python3"
  },
  "language_info": {
   "codemirror_mode": {
    "name": "ipython",
    "version": 3
   },
   "file_extension": ".py",
   "mimetype": "text/x-python",
   "name": "python",
   "nbconvert_exporter": "python",
   "pygments_lexer": "ipython3",
   "version": "3.8.13"
  },
  "widgets": {
   "application/vnd.jupyter.widget-state+json": {
    "state": {
     "002ab9947c994856839f3a140df8ea76": {
      "model_module": "@jupyter-widgets/controls",
      "model_module_version": "1.5.0",
      "model_name": "DescriptionStyleModel",
      "state": {
       "description_width": ""
      }
     },
     "07de05f4d1304c40b04c571c503d5a83": {
      "model_module": "@jupyter-widgets/controls",
      "model_module_version": "1.5.0",
      "model_name": "HTMLModel",
      "state": {
       "layout": "IPY_MODEL_41eeffbea9174e61acb162c3e5741d4a",
       "style": "IPY_MODEL_002ab9947c994856839f3a140df8ea76",
       "value": "<h5>Backend</h5>"
      }
     },
     "0ce310162114472096d1f2f1de4a1636": {
      "model_module": "@jupyter-widgets/base",
      "model_module_version": "1.2.0",
      "model_name": "LayoutModel",
      "state": {
       "grid_area": "right",
       "padding": "0px 0px 0px 0px",
       "width": "70px"
      }
     },
     "0cf314471a1144088ceae0d706cf93ad": {
      "model_module": "@jupyter-widgets/controls",
      "model_module_version": "1.5.0",
      "model_name": "HTMLModel",
      "state": {
       "layout": "IPY_MODEL_1a83e7039a5f453f96199f877aebb39c",
       "style": "IPY_MODEL_388c9c33cca3423e867db7fadbce70f9",
       "value": "<font style='color:#34BC6E'>DONE</font>"
      }
     },
     "1a83e7039a5f453f96199f877aebb39c": {
      "model_module": "@jupyter-widgets/base",
      "model_module_version": "1.2.0",
      "model_name": "LayoutModel",
      "state": {
       "width": "95px"
      }
     },
     "20094dc0e1004b9abef8e2aaba537cae": {
      "model_module": "@jupyter-widgets/controls",
      "model_module_version": "1.5.0",
      "model_name": "DescriptionStyleModel",
      "state": {
       "description_width": ""
      }
     },
     "222f4c0dfb62454ca1b1711427a7b7e3": {
      "model_module": "@jupyter-widgets/base",
      "model_module_version": "1.2.0",
      "model_name": "LayoutModel",
      "state": {
       "margin": "0px 5px 0px 0px",
       "width": "32px"
      }
     },
     "24f2bd1ce8c4452e806179bcb98b748a": {
      "model_module": "@jupyter-widgets/controls",
      "model_module_version": "1.5.0",
      "model_name": "ButtonStyleModel",
      "state": {}
     },
     "2c78e0bc09244689afb381eda3690eb8": {
      "model_module": "@jupyter-widgets/controls",
      "model_module_version": "1.5.0",
      "model_name": "HBoxModel",
      "state": {
       "children": [
        "IPY_MODEL_35d0044d44264579a893456e8a244e55",
        "IPY_MODEL_07de05f4d1304c40b04c571c503d5a83",
        "IPY_MODEL_db20b9bcaad84581bb6b924a5f46eb7e",
        "IPY_MODEL_585837845c69478a80b19a80e9777d23",
        "IPY_MODEL_be06705679aa44719755f82276ffe4f2"
       ],
       "layout": "IPY_MODEL_dc3badd8dec748849d57ac3ba3a97cb3"
      }
     },
     "32edda36602b453ea46689d81034a3e4": {
      "model_module": "@jupyter-widgets/controls",
      "model_module_version": "1.5.0",
      "model_name": "DescriptionStyleModel",
      "state": {
       "description_width": ""
      }
     },
     "35d0044d44264579a893456e8a244e55": {
      "model_module": "@jupyter-widgets/controls",
      "model_module_version": "1.5.0",
      "model_name": "HTMLModel",
      "state": {
       "layout": "IPY_MODEL_bc57d312bb5b416d92e9c5d757f4e6ec",
       "style": "IPY_MODEL_cc60f872edb942b3ae33eb2ef18b7cff",
       "value": "<h5>Job ID</h5>"
      }
     },
     "373f20c912d04b9da45f6fb9045974ba": {
      "model_module": "@jupyter-widgets/base",
      "model_module_version": "1.2.0",
      "model_name": "LayoutModel",
      "state": {
       "margin": "0px 0px 10px 0px"
      }
     },
     "388c9c33cca3423e867db7fadbce70f9": {
      "model_module": "@jupyter-widgets/controls",
      "model_module_version": "1.5.0",
      "model_name": "DescriptionStyleModel",
      "state": {
       "description_width": ""
      }
     },
     "389d615b18cc4605a9d138a10d53de8f": {
      "model_module": "@jupyter-widgets/controls",
      "model_module_version": "1.5.0",
      "model_name": "HTMLModel",
      "state": {
       "layout": "IPY_MODEL_e00d877c0dc04a6abbe535f710785e11",
       "style": "IPY_MODEL_d14f0f85ba94456f81d4808874bf213f",
       "value": "63d6285f33d850ba7005899b"
      }
     },
     "41eeffbea9174e61acb162c3e5741d4a": {
      "model_module": "@jupyter-widgets/base",
      "model_module_version": "1.2.0",
      "model_name": "LayoutModel",
      "state": {
       "width": "145px"
      }
     },
     "499276f05ead44ea990b5212b659a5b5": {
      "model_module": "@jupyter-widgets/controls",
      "model_module_version": "1.5.0",
      "model_name": "DescriptionStyleModel",
      "state": {
       "description_width": ""
      }
     },
     "585837845c69478a80b19a80e9777d23": {
      "model_module": "@jupyter-widgets/controls",
      "model_module_version": "1.5.0",
      "model_name": "HTMLModel",
      "state": {
       "layout": "IPY_MODEL_bcd6e9a20d6a4ba4bad991362a32ba94",
       "style": "IPY_MODEL_cdb2c342f975469aa2fbbb49bcb41b3f",
       "value": "<h5>Queue</h5>"
      }
     },
     "6b713fede81a453ab28d40bd232c836b": {
      "model_module": "@jupyter-widgets/controls",
      "model_module_version": "1.5.0",
      "model_name": "HTMLModel",
      "state": {
       "layout": "IPY_MODEL_b148bb0fee5e4d8ca095b651ca62464d",
       "style": "IPY_MODEL_32edda36602b453ea46689d81034a3e4",
       "value": "job has successfully run"
      }
     },
     "6c7030c6f2cb405d90024c13ebb95463": {
      "model_module": "@jupyter-widgets/controls",
      "model_module_version": "1.5.0",
      "model_name": "ButtonStyleModel",
      "state": {
       "button_color": "white"
      }
     },
     "70da424aeef14eea8745e68815d4fba3": {
      "model_module": "@jupyter-widgets/base",
      "model_module_version": "1.2.0",
      "model_name": "LayoutModel",
      "state": {
       "max_width": "700px",
       "min_width": "700px"
      }
     },
     "7b7412cbe0a64cdaa9e3b57aa89a4380": {
      "model_module": "@jupyter-widgets/controls",
      "model_module_version": "1.5.0",
      "model_name": "HTMLModel",
      "state": {
       "layout": "IPY_MODEL_817abced69d0479691e6311634032a01",
       "style": "IPY_MODEL_499276f05ead44ea990b5212b659a5b5",
       "value": "ibmq_qasm_simulator"
      }
     },
     "817abced69d0479691e6311634032a01": {
      "model_module": "@jupyter-widgets/base",
      "model_module_version": "1.2.0",
      "model_name": "LayoutModel",
      "state": {
       "width": "145px"
      }
     },
     "9ce55f17a9da464d856bc74a161d3f4e": {
      "model_module": "@jupyter-widgets/controls",
      "model_module_version": "1.5.0",
      "model_name": "HBoxModel",
      "state": {
       "children": [
        "IPY_MODEL_af20fe4f7e604db9906f2eeb2288acf3",
        "IPY_MODEL_389d615b18cc4605a9d138a10d53de8f",
        "IPY_MODEL_7b7412cbe0a64cdaa9e3b57aa89a4380",
        "IPY_MODEL_0cf314471a1144088ceae0d706cf93ad",
        "IPY_MODEL_d77a3e03423f4284bc727de2aa16e653",
        "IPY_MODEL_6b713fede81a453ab28d40bd232c836b"
       ],
       "layout": "IPY_MODEL_70da424aeef14eea8745e68815d4fba3"
      }
     },
     "9e2482639730417c8abf8de34a05f4ad": {
      "model_module": "@jupyter-widgets/controls",
      "model_module_version": "1.5.0",
      "model_name": "DescriptionStyleModel",
      "state": {
       "description_width": ""
      }
     },
     "a6cd22f9f0e042b8b7e538236794644f": {
      "model_module": "@jupyter-widgets/base",
      "model_module_version": "1.2.0",
      "model_name": "LayoutModel",
      "state": {
       "grid_template_areas": "\n                                       \". . . . right \"\n                                        ",
       "grid_template_columns": "20% 20% 20% 20% 20%",
       "width": "100%"
      }
     },
     "ae798d244d9344ada3ef8038374ed657": {
      "model_module": "@jupyter-widgets/controls",
      "model_module_version": "1.5.0",
      "model_name": "GridBoxModel",
      "state": {
       "children": [
        "IPY_MODEL_d3c855380f99442f9ee5e4bc1d214f19"
       ],
       "layout": "IPY_MODEL_a6cd22f9f0e042b8b7e538236794644f"
      }
     },
     "af20fe4f7e604db9906f2eeb2288acf3": {
      "model_module": "@jupyter-widgets/controls",
      "model_module_version": "1.5.0",
      "model_name": "ButtonModel",
      "state": {
       "icon": "close",
       "layout": "IPY_MODEL_222f4c0dfb62454ca1b1711427a7b7e3",
       "style": "IPY_MODEL_6c7030c6f2cb405d90024c13ebb95463"
      }
     },
     "b02e7cc27f6b4f209fd50b723c419826": {
      "model_module": "@jupyter-widgets/controls",
      "model_module_version": "1.5.0",
      "model_name": "HTMLModel",
      "state": {
       "layout": "IPY_MODEL_373f20c912d04b9da45f6fb9045974ba",
       "style": "IPY_MODEL_dc6a19b9c6d447f0a23db8f76890147c",
       "value": "<p style='font-family: IBM Plex Sans, Arial, Helvetica, sans-serif; font-size: 20px; font-weight: medium;'>Circuit Properties</p>"
      }
     },
     "b148bb0fee5e4d8ca095b651ca62464d": {
      "model_module": "@jupyter-widgets/base",
      "model_module_version": "1.2.0",
      "model_name": "LayoutModel",
      "state": {
       "overflow_x": "scroll"
      }
     },
     "bc57d312bb5b416d92e9c5d757f4e6ec": {
      "model_module": "@jupyter-widgets/base",
      "model_module_version": "1.2.0",
      "model_name": "LayoutModel",
      "state": {
       "width": "190px"
      }
     },
     "bcd6e9a20d6a4ba4bad991362a32ba94": {
      "model_module": "@jupyter-widgets/base",
      "model_module_version": "1.2.0",
      "model_name": "LayoutModel",
      "state": {
       "width": "70px"
      }
     },
     "be06705679aa44719755f82276ffe4f2": {
      "model_module": "@jupyter-widgets/controls",
      "model_module_version": "1.5.0",
      "model_name": "HTMLModel",
      "state": {
       "layout": "IPY_MODEL_d5f07ef77f8f44fa9fc94894441ab8c1",
       "style": "IPY_MODEL_20094dc0e1004b9abef8e2aaba537cae",
       "value": "<h5>Message</h5>"
      }
     },
     "c4a4d719517f46709dd4536caa48fa06": {
      "model_module": "@jupyter-widgets/base",
      "model_module_version": "1.2.0",
      "model_name": "LayoutModel",
      "state": {
       "width": "95px"
      }
     },
     "cc60f872edb942b3ae33eb2ef18b7cff": {
      "model_module": "@jupyter-widgets/controls",
      "model_module_version": "1.5.0",
      "model_name": "DescriptionStyleModel",
      "state": {
       "description_width": ""
      }
     },
     "cdb2c342f975469aa2fbbb49bcb41b3f": {
      "model_module": "@jupyter-widgets/controls",
      "model_module_version": "1.5.0",
      "model_name": "DescriptionStyleModel",
      "state": {
       "description_width": ""
      }
     },
     "d14f0f85ba94456f81d4808874bf213f": {
      "model_module": "@jupyter-widgets/controls",
      "model_module_version": "1.5.0",
      "model_name": "DescriptionStyleModel",
      "state": {
       "description_width": ""
      }
     },
     "d3c855380f99442f9ee5e4bc1d214f19": {
      "model_module": "@jupyter-widgets/controls",
      "model_module_version": "1.5.0",
      "model_name": "ButtonModel",
      "state": {
       "button_style": "primary",
       "description": "Clear",
       "layout": "IPY_MODEL_0ce310162114472096d1f2f1de4a1636",
       "style": "IPY_MODEL_24f2bd1ce8c4452e806179bcb98b748a"
      }
     },
     "d5f07ef77f8f44fa9fc94894441ab8c1": {
      "model_module": "@jupyter-widgets/base",
      "model_module_version": "1.2.0",
      "model_name": "LayoutModel",
      "state": {}
     },
     "d77a3e03423f4284bc727de2aa16e653": {
      "model_module": "@jupyter-widgets/controls",
      "model_module_version": "1.5.0",
      "model_name": "HTMLModel",
      "state": {
       "layout": "IPY_MODEL_e36aeea33a184014972292de7c040b81",
       "style": "IPY_MODEL_9e2482639730417c8abf8de34a05f4ad",
       "value": "-"
      }
     },
     "db20b9bcaad84581bb6b924a5f46eb7e": {
      "model_module": "@jupyter-widgets/controls",
      "model_module_version": "1.5.0",
      "model_name": "HTMLModel",
      "state": {
       "layout": "IPY_MODEL_c4a4d719517f46709dd4536caa48fa06",
       "style": "IPY_MODEL_e986acdb1a0d4d7cbb91a31d8a6544fb",
       "value": "<h5>Status</h5>"
      }
     },
     "dc3badd8dec748849d57ac3ba3a97cb3": {
      "model_module": "@jupyter-widgets/base",
      "model_module_version": "1.2.0",
      "model_name": "LayoutModel",
      "state": {
       "margin": "0px 0px 0px 37px",
       "width": "600px"
      }
     },
     "dc6a19b9c6d447f0a23db8f76890147c": {
      "model_module": "@jupyter-widgets/controls",
      "model_module_version": "1.5.0",
      "model_name": "DescriptionStyleModel",
      "state": {
       "description_width": ""
      }
     },
     "e00d877c0dc04a6abbe535f710785e11": {
      "model_module": "@jupyter-widgets/base",
      "model_module_version": "1.2.0",
      "model_name": "LayoutModel",
      "state": {
       "width": "190px"
      }
     },
     "e36aeea33a184014972292de7c040b81": {
      "model_module": "@jupyter-widgets/base",
      "model_module_version": "1.2.0",
      "model_name": "LayoutModel",
      "state": {
       "width": "70px"
      }
     },
     "e986acdb1a0d4d7cbb91a31d8a6544fb": {
      "model_module": "@jupyter-widgets/controls",
      "model_module_version": "1.5.0",
      "model_name": "DescriptionStyleModel",
      "state": {
       "description_width": ""
      }
     }
    },
    "version_major": 2,
    "version_minor": 0
   }
  }
 },
 "nbformat": 4,
 "nbformat_minor": 5
}
