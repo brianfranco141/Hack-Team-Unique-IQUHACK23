{
 "cells": [
  {
   "cell_type": "code",
   "execution_count": null,
   "id": "7e269c7d-1679-4de2-9a63-9af09fab00b0",
   "metadata": {},
   "outputs": [],
   "source": [
    "from qiskit import QuantumCircuit, QuantumRegister \n",
    "\n",
    "# Create a Quantum Register with 2 qubits \n",
    "q = QuantumRegister(2) \n",
    "  \n",
    "# Create a Quantum Circuit acting on the q register \n",
    "circuit = QuantumCircuit(q) \n",
    "  \n",
    "# Add a H gate on qubit 0 and 1\n",
    "circuit.h(q[0]) \n",
    "circuit.h(q[1]) \n",
    "  \n",
    "# Measure the qubits \n",
    "circuit.measure(q, [0, 1]) \n",
    "\n",
    "print(\"Circuit: \", circuit)"
   ]
  }
 ],
 "metadata": {
  "kernelspec": {
   "display_name": "Python 3 (ipykernel)",
   "language": "python",
   "name": "python3"
  },
  "language_info": {
   "codemirror_mode": {
    "name": "ipython",
    "version": 3
   },
   "file_extension": ".py",
   "mimetype": "text/x-python",
   "name": "python",
   "nbconvert_exporter": "python",
   "pygments_lexer": "ipython3",
   "version": "3.10.6"
  }
 },
 "nbformat": 4,
 "nbformat_minor": 5
}
